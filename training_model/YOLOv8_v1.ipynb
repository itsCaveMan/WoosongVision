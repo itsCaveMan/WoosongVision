{
 "cells": [
  {
   "cell_type": "markdown",
   "source": [
    "# Train"
   ],
   "metadata": {
    "collapsed": false
   },
   "id": "72e5a41767468546"
  },
  {
   "cell_type": "code",
   "execution_count": null,
   "outputs": [],
   "source": [
    "# CD into the training directory \n",
    "!cd './training_models'\n",
    "\n",
    "# Setup/download YOLO\n",
    "%pip install ultralytics\n",
    "import ultralytics\n",
    "ultralytics.checks()\n",
    "\n",
    "from ultralytics import YOLO\n",
    "\n",
    "''' NEW     - train a new model from yolo's pretrained coco models (n ~ xl) '''\n",
    "# model = YOLO('yolov8s-seg.pt')\n",
    "''' RESUME/EVAL  - by loading a previous model as the weights initialization '''\n",
    "model = YOLO('/home/work/PycharmProjects/pythonProject/WoosongVision/training_model/runs/segment/train6/weights/best.pt')  \n",
    "\n",
    "# TRAIN\n",
    "# results = model.train(data='./trashbag_data_v8.yaml', epochs=30, batch=4, amp=False)  # train the model\n",
    "\n",
    "# EVALUATE\n",
    "# results = model.val()  # evaluate model performance on the validation set - produces results charts\n",
    "\n",
    "# PREDICT\n",
    "results = model('/home/work/PycharmProjects/pythonProject/WoosongVision/datasets/real_truck_demo/test1.webm')  # predict on an image"
   ],
   "metadata": {
    "collapsed": false
   },
   "id": "c3b0a38ad05978a7"
  },
  {
   "cell_type": "markdown",
   "source": [
    "# Clear GPU Memory"
   ],
   "metadata": {
    "collapsed": false
   },
   "id": "ede346da779a0f5e"
  },
  {
   "cell_type": "code",
   "execution_count": 10,
   "outputs": [
    {
     "data": {
      "text/plain": "' sudo kill -9 PIDHERE '"
     },
     "execution_count": 10,
     "metadata": {},
     "output_type": "execute_result"
    }
   ],
   "source": [
    "import torch\n",
    "torch.cuda.empty_cache()\n",
    "\n",
    "## view GPU memory usage via nvidia-smi\n",
    "''' nvidia-smi --loop-ms=1000 '''\n",
    "\n",
    "## kill process\n",
    "''' sudo kill -9 PIDHERE '''\n"
   ],
   "metadata": {
    "collapsed": false,
    "ExecuteTime": {
     "end_time": "2023-12-13T12:27:53.165435592Z",
     "start_time": "2023-12-13T12:27:53.159143120Z"
    }
   },
   "id": "6303f9185b2bde85"
  },
  {
   "cell_type": "markdown",
   "source": [
    "# Resume Training (unfinished epochs)"
   ],
   "metadata": {
    "collapsed": false
   },
   "id": "f18bc1f268ff6236"
  },
  {
   "cell_type": "code",
   "execution_count": null,
   "outputs": [],
   "source": [
    "''' RESUME - only works for interrupted in training models - if the model finished, just train a new one but point to the previous model as the weights initialization (e.g rather then yolov8s.pt) ''' \n",
    "\n",
    "from ultralytics import YOLO\n",
    "\n",
    "# Load a model\n",
    "model = YOLO('./runs/segment/train3/weights/best.pt')  # load a pretrained YOLOv8n segmentation model\n",
    "\n",
    "# Resume training\n",
    "results = model.train(resume=True, epochs=100, batch=4, amp=False)"
   ],
   "metadata": {
    "collapsed": false
   },
   "id": "1378df975b51fa23"
  },
  {
   "cell_type": "markdown",
   "source": [
    "# Predict"
   ],
   "metadata": {
    "collapsed": false
   },
   "id": "3a44328776e8b6be"
  },
  {
   "cell_type": "code",
   "execution_count": null,
   "outputs": [],
   "source": [
    "# Load YOLOv8n-seg, train it on COCO128-seg for 3 epochs and predict an image with it\n",
    "!cd '/home/work/PycharmProjects/pythonProject/WoosongVision/training_model'\n",
    "from ultralytics import YOLO\n",
    "\n",
    "# model = YOLO('/home/work/PycharmProjects/pythonProject/models/v2__yv8s_GPU_t630v19_640x640/weights/best.pt')  # load a pretrained YOLOv8n segmentation model\n",
    "model = YOLO('/home/work/PycharmProjects/pythonProject/WoosongVision/training_model/runs/segment/train6/weights/best.pt')  \n",
    "\n",
    "# VIDEO 1 & 2\n",
    "# model('/home/work/PycharmProjects/pythonProject/WoosongVision/datasets/real_truck_demo/test1.mp4', save=True, imgsz=640, conf=0.5) \n",
    "\n",
    "# ALL IMAGES\n",
    "model('/home/work/PycharmProjects/pythonProject/WoosongVision/datasets/test_trash_v1/images/', save=True, imgsz=640, conf=0.5)  # predict on an image\n",
    "\n",
    "# SINGLE IMAGE\n",
    "# model('/home/work/PycharmProjects/pythonProject/datasets/test_trash_v1/images/p1.jpg', save=True, imgsz=640, conf=0.5)  # predict on an image\n",
    "\n",
    "# VIDEO\n",
    "# model('/home/work/PycharmProjects/pythonProject/datasets/test_trash_v1/truck_demo_videos/truck_demo_v1_1_6loads.mp4', save=True, imgsz=640, conf=0.5)  # predict on an image\n"
   ],
   "metadata": {
    "collapsed": false
   },
   "id": "da7ff681cb61cdac"
  },
  {
   "cell_type": "code",
   "execution_count": null,
   "outputs": [],
   "source": [
    "import cv2\n",
    "from ultralytics import YOLO\n",
    "\n",
    "# Load the YOLOv8 model\n",
    "model = YOLO('/home/work/PycharmProjects/pythonProject/WoosongVision/training_model/runs/segment/train6/weights/best.pt')  \n",
    "\n",
    "# Open the video file\n",
    "video_path = \"/home/work/PycharmProjects/pythonProject/WoosongVision/datasets/real_truck_demo/test2.mp4\"\n",
    "cap = cv2.VideoCapture(video_path)\n",
    "\n",
    "# Loop through the video frames\n",
    "while cap.isOpened():\n",
    "    # Read a frame from the video\n",
    "    success, frame = cap.read()\n",
    "\n",
    "    if success:\n",
    "        # Run YOLOv8 tracking on the frame, persisting tracks between frames\n",
    "        results = model.track(frame, persist=True)\n",
    "\n",
    "        # Visualize the results on the frame\n",
    "        annotated_frame = results[0].plot()\n",
    "\n",
    "        # Display the annotated frame\n",
    "        cv2.imshow(\"YOLOv8 Tracking\", annotated_frame)\n",
    "\n",
    "        # Break the loop if 'q' is pressed\n",
    "        if cv2.waitKey(1) & 0xFF == ord(\"q\"):\n",
    "            break\n",
    "    else:\n",
    "        # Break the loop if the end of the video is reached\n",
    "        break\n",
    "\n",
    "# Release the video capture object and close the display window\n",
    "cap.release()\n",
    "cv2.destroyAllWindows()\n"
   ],
   "metadata": {
    "collapsed": false
   },
   "id": "5c3eab9f2cecd073"
  },
  {
   "cell_type": "code",
   "execution_count": null,
   "outputs": [],
   "source": [],
   "metadata": {
    "collapsed": false
   },
   "id": "29c3fb3786c9c32c"
  }
 ],
 "metadata": {
  "kernelspec": {
   "display_name": "Python 3",
   "language": "python",
   "name": "python3"
  },
  "language_info": {
   "codemirror_mode": {
    "name": "ipython",
    "version": 2
   },
   "file_extension": ".py",
   "mimetype": "text/x-python",
   "name": "python",
   "nbconvert_exporter": "python",
   "pygments_lexer": "ipython2",
   "version": "2.7.6"
  }
 },
 "nbformat": 4,
 "nbformat_minor": 5
}
